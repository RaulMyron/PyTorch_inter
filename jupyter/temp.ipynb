{
 "cells": [
  {
   "cell_type": "code",
   "execution_count": 2,
   "id": "35c460f0-377a-444f-91c6-7498a564d569",
   "metadata": {},
   "outputs": [
    {
     "name": "stdout",
     "output_type": "stream",
     "text": [
      "Arquivo 'imagenet-simple-labels.json' baixado com sucesso usando a biblioteca requests!\n"
     ]
    }
   ],
   "source": [
    "import requests\n",
    "import json\n",
    "\n",
    "url = \"https://raw.githubusercontent.com/anishathalye/imagenet-simple-labels/master/imagenet-simple-labels.json\"\n",
    "file_name = \"imagenet-simple-labels.json\"\n",
    "\n",
    "try:\n",
    "    response = requests.get(url)\n",
    "    response.raise_for_status()  # Verifica se houve algum erro no download\n",
    "\n",
    "    with open(file_name, 'w') as f:\n",
    "        json.dump(response.json(), f) # Salva o conteúdo JSON diretamente\n",
    "\n",
    "    print(f\"Arquivo '{file_name}' baixado com sucesso usando a biblioteca requests!\")\n",
    "\n",
    "    # Agora você pode carregar o arquivo normalmente\n",
    "    with open(file_name) as f:\n",
    "        labels = json.load(f)\n",
    "    # print(labels) # Descomente para ver os rótulos carregados\n",
    "\n",
    "except requests.exceptions.RequestException as e:\n",
    "    print(f\"Erro ao baixar o arquivo com requests: {e}\")\n",
    "except Exception as e:\n",
    "    print(f\"Ocorreu um erro: {e}\")"
   ]
  },
  {
   "cell_type": "code",
   "execution_count": null,
   "id": "b67f9d1b-abec-406a-a732-2e9c4d8d58d7",
   "metadata": {},
   "outputs": [],
   "source": []
  }
 ],
 "metadata": {
  "kernelspec": {
   "display_name": "Python 3 (ipykernel)",
   "language": "python",
   "name": "python3"
  },
  "language_info": {
   "codemirror_mode": {
    "name": "ipython",
    "version": 3
   },
   "file_extension": ".py",
   "mimetype": "text/x-python",
   "name": "python",
   "nbconvert_exporter": "python",
   "pygments_lexer": "ipython3",
   "version": "3.11.7"
  }
 },
 "nbformat": 4,
 "nbformat_minor": 5
}
