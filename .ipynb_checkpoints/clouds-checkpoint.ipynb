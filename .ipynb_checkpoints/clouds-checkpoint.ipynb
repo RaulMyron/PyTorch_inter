{
 "cells": [
  {
   "cell_type": "code",
   "execution_count": null,
   "id": "ae3f3caf-a0db-48b9-9570-a32b9d83820c",
   "metadata": {},
   "outputs": [],
   "source": [
    "from torchvision.datasets import ImageFolder\n",
    "from torchvision import transforms\n",
    "\n",
    "train_transforms = transforms.Compose(\n",
    "    [\n",
    "        transforms.ToTensor(),\n",
    "        transforms.Resize((128, 128)),\n",
    "    ]\n",
    ")\n",
    "\n",
    "dataset_train = ImageFolder(\n",
    "    \"data/clouds_train\",\n",
    "    transform=train_transforms,\n",
    ")\n"
   ]
  }
 ],
 "metadata": {
  "kernelspec": {
   "display_name": "Python 3 (ipykernel)",
   "language": "python",
   "name": "python3"
  },
  "language_info": {
   "codemirror_mode": {
    "name": "ipython",
    "version": 3
   },
   "file_extension": ".py",
   "mimetype": "text/x-python",
   "name": "python",
   "nbconvert_exporter": "python",
   "pygments_lexer": "ipython3",
   "version": "3.11.7"
  }
 },
 "nbformat": 4,
 "nbformat_minor": 5
}
